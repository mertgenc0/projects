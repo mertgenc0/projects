{
 "cells": [
  {
   "cell_type": "code",
   "execution_count": null,
   "id": "f9c64bc9-d41d-4099-b601-382b22534d93",
   "metadata": {},
   "outputs": [],
   "source": [
    "import torch\n",
    "from torch.utils.data import Dataset\n",
    "import h5py\n",
    "from PIL import Image\n",
    "import torchvision.transforms as transforms\n",
    "\n",
    "class CrowdDataset(Dataset):\n",
    "    def __init__(self, img_paths, transform=None):\n",
    "        self.img_paths = img_paths\n",
    "        self.transform = transform\n",
    "\n",
    "    def __len__(self):\n",
    "        return len(self.img_paths)\n",
    "\n",
    "    def __getitem__(self, idx):\n",
    "        img_path = self.img_paths[idx]\n",
    "        # Görsel\n",
    "        img = Image.open(img_path).convert('RGB')\n",
    "        if self.transform:\n",
    "            img = self.transform(img)\n",
    "        \n",
    "        # Yoğunluk haritası (.h5)\n",
    "        gt_path = img_path.replace('.jpg', '.h5').replace('images', 'h5')\n",
    "        with h5py.File(gt_path, 'r') as hf:\n",
    "            density = np.array(hf['density'])\n",
    "\n",
    "        density = torch.from_numpy(density).unsqueeze(0).float()  # C x H x W\n",
    "        return img, density\n"
   ]
  },
  {
   "cell_type": "code",
   "execution_count": 1,
   "id": "9744d7eb-39e3-4755-80ac-76dfbcbddea1",
   "metadata": {},
   "outputs": [
    {
     "name": "stdin",
     "output_type": "stream",
     "text": [
      "x değerini girin:  120\n"
     ]
    },
    {
     "name": "stdout",
     "output_type": "stream",
     "text": [
      "Sonuç: 0.008332754709991192\n"
     ]
    }
   ],
   "source": [
    "# Kullanıcıdan x değerini al\n",
    "x = float(input(\"x değerini girin: \"))\n",
    "\n",
    "# İfadeyi adım adım çöz\n",
    "denominator = x + 1/x\n",
    "denominator = x + 1/denominator\n",
    "denominator = x + 1/denominator\n",
    "result = 1/denominator\n",
    "\n",
    "print(\"Sonuç:\", result)\n"
   ]
  },
  {
   "cell_type": "code",
   "execution_count": 7,
   "id": "ae1985e7-64ef-4ec6-b341-2b460a03cedc",
   "metadata": {},
   "outputs": [
    {
     "name": "stdout",
     "output_type": "stream",
     "text": [
      "[1, 2, 3]\n"
     ]
    }
   ],
   "source": [
    "liste = []\n",
    "liste.extend([1, 2, 3])\n",
    "\n",
    "print(liste)  # [1, 2, 3]"
   ]
  },
  {
   "cell_type": "code",
   "execution_count": null,
   "id": "2c9e516c-1c62-4230-b986-8e1075d37453",
   "metadata": {},
   "outputs": [],
   "source": []
  }
 ],
 "metadata": {
  "kernelspec": {
   "display_name": "Python 3 (ipykernel)",
   "language": "python",
   "name": "python3"
  },
  "language_info": {
   "codemirror_mode": {
    "name": "ipython",
    "version": 3
   },
   "file_extension": ".py",
   "mimetype": "text/x-python",
   "name": "python",
   "nbconvert_exporter": "python",
   "pygments_lexer": "ipython3",
   "version": "3.12.7"
  }
 },
 "nbformat": 4,
 "nbformat_minor": 5
}
