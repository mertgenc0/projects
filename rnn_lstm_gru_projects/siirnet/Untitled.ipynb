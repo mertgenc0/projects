{
 "cells": [
  {
   "cell_type": "code",
   "execution_count": 28,
   "id": "0d9bb4a0-1178-4a4a-bc18-7d76c378b67f",
   "metadata": {},
   "outputs": [
    {
     "name": "stdout",
     "output_type": "stream",
     "text": [
      "                                           cleaned_poem  \\\n",
      "0     derhal fark edilen melek o yüce erk daha gizle...   \n",
      "1     tedbirini terkeyle takdir hüdanındır sen yoksu...   \n",
      "2     karanlık basmadan ovalarıma kainatın duru ille...   \n",
      "3     ince narin kanatlı uçurtmadır kalbin duru yağm...   \n",
      "4     her gün bir yerden göçmek ne iyi her gün bir y...   \n",
      "...                                                 ...   \n",
      "3464  istanbulda bir fa ika fa ikayı ben koymadım or...   \n",
      "3465           özgürlüğün geldiği gün o gün ölmek yasak   \n",
      "3466  sevdiğim arzımı demekçin sana bülbül söylediği...   \n",
      "3467  neler mi istiyorum uyaninca her sabah ne bahar...   \n",
      "3468  ben gönlü temiz insana kurban olayim gezsin ba...   \n",
      "\n",
      "                          poet  \n",
      "0           Rainer Maria Rilke  \n",
      "1                   Şeyh Galib  \n",
      "2              Cahit Zarifoğlu  \n",
      "3                Nurullah Genç  \n",
      "4      Mevlana Celaleddin Rumi  \n",
      "...                        ...  \n",
      "3464  Hasan Hüseyin Korkmazgil  \n",
      "3465              Cemal Süreya  \n",
      "3466               Karacaoğlan  \n",
      "3467               Victor Hugo  \n",
      "3468               Ömer Hayyam  \n",
      "\n",
      "[3469 rows x 2 columns]\n"
     ]
    }
   ],
   "source": [
    "import pandas as pd\n",
    "import numpy as np\n",
    "import os\n",
    "import re\n",
    "\n",
    "def load_and_clean_poems(data_path):\n",
    "\n",
    "    ds = pd.read_csv(data_path)\n",
    "    \n",
    "    # Datayı inceldiğimde 'pp' ve 'br' gibi htmldaen kalma atıkların temizlenmesi\n",
    "    def clean_poem(poem):\n",
    "        poem = str(poem)  \n",
    "        poem = re.sub(r\"pp[\\w]*\", \"\", poem)\n",
    "        poem = re.sub(r\"<br>|<br/>|br\", \"\\n\", poem)\n",
    "        poem = re.sub(r\"\\s+\", \" \", poem).strip()\n",
    "        return poem\n",
    "\n",
    "    ds['cleaned_poem'] = ds['cleaned_poem'].apply(clean_poem)\n",
    "    return ds\n",
    "\n",
    "\n",
    "data_path = \"/Users/mertgenc/DataFile/RNN-LSTM-GRU/turkish_poem/train_dataset.csv\"\n",
    "ds_cleaned = load_and_clean_poems(data_path)\n",
    "\n",
    "# Temizlenmiş ilk 5 şiiri yazdır\n",
    "print(ds_cleaned['cleaned_poem'].head())\n",
    "#print(ds_cleaned)\n"
   ]
  },
  {
   "cell_type": "code",
   "execution_count": 30,
   "id": "b4416e6f-1bc8-4616-80e9-7a6f35843107",
   "metadata": {},
   "outputs": [
    {
     "name": "stdout",
     "output_type": "stream",
     "text": [
      "derhal fark edilen melek o yüce erk daha gizlendiği yere girdiği gibi tertemiz alev alev ve dikilerek yalvardı bırakıp da her bir talebi şaşkını bir tacir olarak kalmasına izin verilsin diye eskiden neydiyse öyle okuyamazdı o böylesi sözün fazla gelirdi bir âlime bile melek ona yazılı sayfasını buyurganca gösteriyor gösteriyordu tekrar ediyordu ısrarla oku o melek önüne eğdi kafasını okuyandı artık o andan itibaren ve bilendi ve uyandı ve hüküm veren osman tuğlu / tedbirini terkeyle takdir hüdanındır sen yoksun o benlikler hep vehm ü gümanındır birden bire bul aşkı bu tuhfe bulanındır devran olalı devran erbabı safanındır keder neyler gam halkı cihanındır koyma kadehi elden söz piri muganındır seyrettim uşşaka mataf olmuş teklif ü tekellüften sükkanı maaf olmuş bir neşe gelüp meclis bi havf u hilaf olmuş gam sohbeti yad olmaz meşrebleri saf olmuş keder neyler gam halkı cihanındır koyma kadehi elden söz piri muganındır dil sen o dildara layık mı değilsin ya davayı mahabete sadık mı deği\n"
     ]
    }
   ],
   "source": [
    "full_text = \" / \".join(ds_cleaned['cleaned_poem'])\n",
    "print(full_text[:1000])"
   ]
  },
  {
   "cell_type": "code",
   "execution_count": 32,
   "id": "e87b66d8-282e-4bfd-9945-43a5304a10dc",
   "metadata": {},
   "outputs": [],
   "source": [
    "# Karakterleri indeksliyerek metni modelin anlayabileceği hale getirmek.\n",
    "chars  = sorted(list(set(full_text)))\n",
    "char_to_idx = {char: idx for idx, char in enumerate(chars)}\n",
    "idx_to_char = {idx: char for char, idx in char_to_idx.items()}"
   ]
  },
  {
   "cell_type": "code",
   "execution_count": null,
   "id": "b4c8384b-76b1-494a-961c-84b0c194ad0c",
   "metadata": {},
   "outputs": [],
   "source": []
  },
  {
   "cell_type": "code",
   "execution_count": 38,
   "id": "3e0ebbc4-f4be-4306-8e84-9fe31b70b40f",
   "metadata": {},
   "outputs": [],
   "source": [
    "# 40 karekter uzunluğundaki bir metnin 41. kareternin tahminleme yapamyı öğrenemsi için X ve y şeklinde ayırıyoruz.\n",
    "seq_lenght = 40 \n",
    "sequences = []\n",
    "next_chars = []\n",
    "\n",
    "for i in range(len(full_text) - seq_lenght):\n",
    "    seq = full_text[i:i+seq_lenght]\n",
    "    next_char = full_text[i+seq_lenght]\n",
    "    sequences.append([char_to_idx[c] for c in seq])\n",
    "    next_chars.append(char_to_idx[next_char])\n",
    "    "
   ]
  },
  {
   "cell_type": "code",
   "execution_count": 46,
   "id": "b8f9a7fd-0a76-4159-83c7-80a538275ff8",
   "metadata": {},
   "outputs": [
    {
     "name": "stdout",
     "output_type": "stream",
     "text": [
      "[16, 17, 30, 20, 13, 24, 0, 18, 13, 30, 23, 0, 17, 16, 21, 24, 17, 26, 0, 25, 17, 24, 17, 23, 0, 27, 0, 37, 55, 15, 17, 0, 17, 30, 23, 0, 16, 13, 20, 13]\n"
     ]
    }
   ],
   "source": [
    "print(sequences[0])"
   ]
  },
  {
   "cell_type": "code",
   "execution_count": 43,
   "id": "3bc07b9e-020e-47bc-910f-5814ed7f8713",
   "metadata": {},
   "outputs": [
    {
     "name": "stdout",
     "output_type": "stream",
     "text": [
      "16\n"
     ]
    }
   ],
   "source": [
    "print(next_chars[7])"
   ]
  },
  {
   "cell_type": "code",
   "execution_count": 39,
   "id": "c6f5e7a5-cf51-4a76-ad13-bf31096153b8",
   "metadata": {},
   "outputs": [],
   "source": [
    "import numpy as np\n",
    "from tensorflow.keras.utils import to_categorical\n",
    "\n",
    "X = np.array(sequences)\n",
    "y = to_categorical(next_chars, num_classes=len(chars))"
   ]
  },
  {
   "cell_type": "code",
   "execution_count": null,
   "id": "f657bd01-a50b-4307-a531-497e18f1291e",
   "metadata": {},
   "outputs": [],
   "source": []
  }
 ],
 "metadata": {
  "kernelspec": {
   "display_name": "Python 3 (ipykernel)",
   "language": "python",
   "name": "python3"
  },
  "language_info": {
   "codemirror_mode": {
    "name": "ipython",
    "version": 3
   },
   "file_extension": ".py",
   "mimetype": "text/x-python",
   "name": "python",
   "nbconvert_exporter": "python",
   "pygments_lexer": "ipython3",
   "version": "3.12.7"
  }
 },
 "nbformat": 4,
 "nbformat_minor": 5
}
